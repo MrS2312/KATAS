{
 "cells": [
  {
   "cell_type": "markdown",
   "metadata": {},
   "source": [
    "# KATA 6\n",
    "\n",
    "ESTRUCTURAS DE CONTROL"
   ]
  },
  {
   "cell_type": "markdown",
   "metadata": {},
   "source": [
    "EJERCICIO 1 ----->CREACION DE UN BUCLE WHILE"
   ]
  },
  {
   "cell_type": "code",
   "execution_count": 8,
   "metadata": {},
   "outputs": [],
   "source": [
    "#CREAMOS DOS VARIABLES \"new_planet\" Y \"planets\"\n",
    "new_planet = ''\n",
    "planets = []\n",
    "\n"
   ]
  },
  {
   "cell_type": "code",
   "execution_count": 9,
   "metadata": {},
   "outputs": [],
   "source": [
    "#CREAMOS EL CICLO WHILE CON LAS CONDICIONES SOLICITADAS\n",
    "new_planet = input(\"ENTER THE NAME OF A PLANET \")\n",
    "while new_planet.lower() != 'done':\n",
    "    if new_planet:\n",
    "        planets.append(new_planet)\n",
    "    new_planet = input(\"ENTER A NEW VALUE, OR DONE WHEN DONE\")"
   ]
  },
  {
   "cell_type": "markdown",
   "metadata": {},
   "source": [
    "EJERCICIO 2 -----> CREACION DE UN CICLO FOR"
   ]
  },
  {
   "cell_type": "code",
   "execution_count": 10,
   "metadata": {},
   "outputs": [
    {
     "name": "stdout",
     "output_type": "stream",
     "text": [
      "earh \n",
      "\n",
      "mars \n",
      "\n",
      "jupyter \n",
      "\n",
      "saturn \n",
      "\n",
      "neptun \n",
      "\n",
      "uranus \n",
      "\n"
     ]
    }
   ],
   "source": [
    "#CREACION DE UN CICLO FOR CON LAS CONDICIONES SOLICITADAS\n",
    "for planet in planets:\n",
    "    print(planet, '\\n')"
   ]
  }
 ],
 "metadata": {
  "interpreter": {
   "hash": "5b983a2d143372c07fe6d9cc58c2fd4ddf86b56a2bcc40bbd703620dfb73e07a"
  },
  "kernelspec": {
   "display_name": "Python 3.10.2 64-bit",
   "language": "python",
   "name": "python3"
  },
  "language_info": {
   "codemirror_mode": {
    "name": "ipython",
    "version": 3
   },
   "file_extension": ".py",
   "mimetype": "text/x-python",
   "name": "python",
   "nbconvert_exporter": "python",
   "pygments_lexer": "ipython3",
   "version": "3.10.2"
  },
  "orig_nbformat": 4
 },
 "nbformat": 4,
 "nbformat_minor": 2
}
