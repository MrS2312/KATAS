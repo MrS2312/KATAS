{
 "cells": [
  {
   "cell_type": "markdown",
   "metadata": {},
   "source": [
    "# KATA 4\n",
    "\n",
    "CADENAS"
   ]
  },
  {
   "cell_type": "markdown",
   "metadata": {},
   "source": [
    "## EJERCICIO 1 ------> TRANSFORMAR CADENAS"
   ]
  },
  {
   "cell_type": "code",
   "execution_count": 145,
   "metadata": {},
   "outputs": [
    {
     "name": "stdout",
     "output_type": "stream",
     "text": [
      "Interesting facts about the Moon. The Moon is Earth's only satellite. There are several interesting facts about the Moon and how it affects life here on Earth.\n",
      "        On average, the Moon moves 4cm away from the Earth every year. This yearly drift is not significant enough to cause immediate effects on Earth. The highest daylight temperature of the Moon is 127 C.\n"
     ]
    }
   ],
   "source": [
    "#TEXTO A TRABAJAR\n",
    "text = \"\"\"Interesting facts about the Moon. The Moon is Earth's only satellite. There are several interesting facts about the Moon and how it affects life here on Earth.\n",
    "        On average, the Moon moves 4cm away from the Earth every year. This yearly drift is not significant enough to cause immediate effects on Earth. The highest daylight temperature of the Moon is 127 C.\"\"\"\n",
    "\n",
    "print(text)"
   ]
  },
  {
   "cell_type": "code",
   "execution_count": 146,
   "metadata": {},
   "outputs": [
    {
     "name": "stdout",
     "output_type": "stream",
     "text": [
      "['Interesting facts about the Moon', \"The Moon is Earth's only satellite\", 'There are several interesting facts about the Moon and how it affects life here on Earth.\\n        On average, the Moon moves 4cm away from the Earth every year', 'This yearly drift is not significant enough to cause immediate effects on Earth', 'The highest daylight temperature of the Moon is 127 C.']\n"
     ]
    }
   ],
   "source": [
    "#DIVIDIMOS EL TEXTO EN CADA ORACION PARA TRABAJAR CON SU CONTENIDO\n",
    "\n",
    "textoDiv =text.split('. ')\n",
    "print(textoDiv)"
   ]
  },
  {
   "cell_type": "code",
   "execution_count": 147,
   "metadata": {},
   "outputs": [],
   "source": [
    "#AHORA, DEFINIMOS ALGUNAS PALABRAS CLAVE (AVERAGE, TEMPERATURE Y DISTANCE).\n",
    "\n",
    "palClav = [\"average\",\"temperature\",\"distance\"]\n"
   ]
  },
  {
   "cell_type": "code",
   "execution_count": 148,
   "metadata": {},
   "outputs": [
    {
     "name": "stdout",
     "output_type": "stream",
     "text": [
      "The Moon is Earth's only satellite\n",
      "There are several interesting facts about the Moon and how it affects life here on Earth.\n",
      "        On average, the Moon moves 4cm away from the Earth every year\n",
      "This yearly drift is not significant enough to cause immediate effects on Earth\n",
      "The highest daylight temperature of the Moon is 127 C.\n"
     ]
    }
   ],
   "source": [
    "#CREAMOS UN BUCLE CON LAS PALABRAS CLAVE\n",
    "\n",
    "for text in textoDiv:\n",
    "    for palClav in palClav:\n",
    "        if palClav in text:\n",
    "            print(text)\n",
    "            break"
   ]
  },
  {
   "cell_type": "code",
   "execution_count": 149,
   "metadata": {},
   "outputs": [
    {
     "name": "stdout",
     "output_type": "stream",
     "text": [
      "Interesting facts about the Moon\n",
      "The Moon is Earth's only satellite\n",
      "There are several interesting facts about the Moon and how it affects life here on Earth.\n",
      "        On average, the Moon moves 4cm away from the Earth every year\n",
      "This yearly drift is not significant enough to cause immediate effects on Earth\n",
      "The highest daylight temperature of the Moon is 127 Celcius.\n"
     ]
    }
   ],
   "source": [
    "#CAMBIAMOS C A CELCIUS\n",
    "for text in textoDiv:\n",
    "    for palClav in palClav:\n",
    "        if palClav in text:\n",
    "            print(text.replace('C','Celcius'))\n",
    "            break"
   ]
  },
  {
   "cell_type": "markdown",
   "metadata": {},
   "source": [
    "## EJERCICIO 2 ------> FORMATEANDO CADENAS"
   ]
  },
  {
   "cell_type": "code",
   "execution_count": 150,
   "metadata": {},
   "outputs": [],
   "source": [
    "#DATOS A TRABAJAR\n",
    "name = \"Moon\"\n",
    "gravity = 0.00162 # in kms\n",
    "planet = \"Earth\"    "
   ]
  },
  {
   "cell_type": "code",
   "execution_count": 151,
   "metadata": {},
   "outputs": [
    {
     "name": "stdout",
     "output_type": "stream",
     "text": [
      "Gravity Facts About Moon\n"
     ]
    }
   ],
   "source": [
    "#CREAMOS EL TITULO\n",
    "title = f'Gravity Facts about {name}'   \n",
    "print(title.title())"
   ]
  },
  {
   "cell_type": "code",
   "execution_count": 158,
   "metadata": {},
   "outputs": [
    {
     "name": "stdout",
     "output_type": "stream",
     "text": [
      "----------------------------------------------- \n",
      "Name planet: Marte  \n",
      "Gravity on Ganímedes: 1.4300000000000002 m/s2 \n",
      "\n"
     ]
    }
   ],
   "source": [
    "# CREAMOS PLANTILLA MULTILINEA CON EL RESTO DE DATOS\n",
    "body = f\"\"\"----------------------------------------------- \n",
    "Name planet: {planet} \n",
    "Gravity on {name}: {gravity * 1000} m/s2 \n",
    "\"\"\"\n",
    "print(body)\n",
    "\n",
    "#NOTA: RECORDAR USAR {'-' * X NUMERO} ESO SIRVE PARA PONER LOS GUIONES DE FORMA AUTOMATICA"
   ]
  },
  {
   "cell_type": "code",
   "execution_count": 153,
   "metadata": {},
   "outputs": [
    {
     "name": "stdout",
     "output_type": "stream",
     "text": [
      "Gravity Facts About Moon\n",
      "----------------------------------------------- \n",
      "Name planet: Earth \n",
      "Gravity on Moon: 1.6199999999999999 m/s2 \n",
      " \n"
     ]
    }
   ],
   "source": [
    "#UNIMOS AMBAS PARTES\n",
    "fact = f\"\"\"{title.title()}\n",
    "{body} \"\"\"\n",
    "print(fact)"
   ]
  },
  {
   "cell_type": "code",
   "execution_count": 154,
   "metadata": {},
   "outputs": [],
   "source": [
    "#NUEVOS DATOS MUESTRA\n",
    "planet = 'Marte '\n",
    "gravity  = 0.00143\n",
    "name= 'Ganímedes'\n"
   ]
  },
  {
   "cell_type": "code",
   "execution_count": 155,
   "metadata": {},
   "outputs": [
    {
     "name": "stdout",
     "output_type": "stream",
     "text": [
      "Gravity Facts About Moon\n",
      "----------------------------------------------- \n",
      "Name planet: Earth \n",
      "Gravity on Moon: 1.6199999999999999 m/s2 \n",
      " \n"
     ]
    }
   ],
   "source": [
    "#COMPROBAMOS PLANTILLA\n",
    "print(fact)"
   ]
  },
  {
   "cell_type": "code",
   "execution_count": 156,
   "metadata": {},
   "outputs": [
    {
     "name": "stdout",
     "output_type": "stream",
     "text": [
      "\n",
      "Gravity Facts about: Ganímedes\n",
      "-------------------------------------------------------------------------------\n",
      "Name planet: Marte \n",
      "Gravity on Ganímedes: 0.00143 m/s2\n",
      "\n"
     ]
    }
   ],
   "source": [
    "#HACEMOS NUEVA PLANTILLA CON FORMAT()\n",
    "new_fact = \"\"\"\n",
    "Gravity Facts about: {name}\n",
    "-------------------------------------------------------------------------------\n",
    "Name planet: {planet}\n",
    "Gravity on {name}: {gravity} m/s2\n",
    "\"\"\"\n",
    "print(new_fact.format(name=name, planet=planet, gravity=gravity))"
   ]
  },
  {
   "cell_type": "code",
   "execution_count": 157,
   "metadata": {},
   "outputs": [
    {
     "name": "stdout",
     "output_type": "stream",
     "text": [
      "\n",
      "Gravity Facts about: Ganímedes\n",
      "-------------------------------------------------------------------------------\n",
      "Name planet: Marte \n",
      "Gravity on Ganímedes: 1.4300000000000002 m/s2\n",
      "\n"
     ]
    }
   ],
   "source": [
    "#IMPRIMIMOS NUEVA PLANTILLA CON EL VALOR DE LA GRAVEDAD *1000 FUERA DE LA PLANTILLA\n",
    "print(new_fact.format(name=name, planet=planet, gravity=gravity*1000))"
   ]
  }
 ],
 "metadata": {
  "interpreter": {
   "hash": "5b983a2d143372c07fe6d9cc58c2fd4ddf86b56a2bcc40bbd703620dfb73e07a"
  },
  "kernelspec": {
   "display_name": "Python 3.10.2 64-bit",
   "language": "python",
   "name": "python3"
  },
  "language_info": {
   "codemirror_mode": {
    "name": "ipython",
    "version": 3
   },
   "file_extension": ".py",
   "mimetype": "text/x-python",
   "name": "python",
   "nbconvert_exporter": "python",
   "pygments_lexer": "ipython3",
   "version": "3.10.2"
  },
  "orig_nbformat": 4
 },
 "nbformat": 4,
 "nbformat_minor": 2
}
