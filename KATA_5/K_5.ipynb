{
 "cells": [
  {
   "cell_type": "markdown",
   "metadata": {},
   "source": [
    "## KATA 5 \n",
    "\n",
    "USAR OPERACIONES MATEMATICAS"
   ]
  },
  {
   "cell_type": "markdown",
   "metadata": {},
   "source": [
    "EJERCICIO 1 -----> UTILIZAR OPERADORES MATEMATICOS"
   ]
  },
  {
   "cell_type": "code",
   "execution_count": 15,
   "metadata": {},
   "outputs": [
    {
     "name": "stdout",
     "output_type": "stream",
     "text": [
      "149597870\n",
      "778547200\n"
     ]
    }
   ],
   "source": [
    "#DISTANCIA DE LA TIERRA Y JUPITER EN KM\n",
    "#CREAMOS VARIABLES QUE CONTENGAN LAS DOS DISTANCIAS\n",
    "tierra_int = int('149597870') \n",
    "jupiter_int = int('778547200')\n",
    "print(tierra_int)\n",
    "print(jupiter_int)"
   ]
  },
  {
   "cell_type": "code",
   "execution_count": 16,
   "metadata": {},
   "outputs": [
    {
     "name": "stdout",
     "output_type": "stream",
     "text": [
      "628949330\n",
      "390577534\n"
     ]
    }
   ],
   "source": [
    "from math import ceil, floor\n",
    "\n",
    "#OBTENEMOS LA DISTANCIA RESTANDO EL PLANETA \"A\" DEL PLANETA \"B\"\n",
    "distPlanet = tierra_int - jupiter_int\n",
    "print(abs(distPlanet))\n",
    "\n",
    "#CONVERTIMOS LA DISTANCIA DE KILOMETROS A MILLAS REDONDEANDO EL RESULTADO\n",
    "distPlanetmillas_float = abs(distPlanet) * 0.621\n",
    "print(ceil(distPlanetmillas_float))\n"
   ]
  },
  {
   "cell_type": "markdown",
   "metadata": {},
   "source": [
    "EJERCICIO 2 ------> CONVIERTE CADENAS A NUMEROS Y USA VALORES ABSOLUTOS"
   ]
  },
  {
   "cell_type": "code",
   "execution_count": 21,
   "metadata": {},
   "outputs": [
    {
     "name": "stdout",
     "output_type": "stream",
     "text": [
      "123456\n",
      "987564\n",
      "864108\n",
      "536612\n"
     ]
    }
   ],
   "source": [
    "#LEEMOS LA DISTANCIA  DE DOS PLANETAS CON EL COMANDO INPUT\n",
    "distPlanet_1 = input('INGRESA LA DISTANCIA DEL PRIMER PLANETA EN KM: ')\n",
    "distPlanet_2 = input('INGRESA LA DISTANCIA DEL SEGUNDO PLANETA EN KM: ')\n",
    "print(distPlanet_1)\n",
    "print(distPlanet_2)\n",
    "\n",
    "#CONVERTIMOS LOS DATOS OBTENIDOS EN DATOS ENTEROS\n",
    "distPlanet1_int = int(distPlanet_1)\n",
    "distPlanet2_int = int(distPlanet_2)\n",
    "\n",
    "#OBTENEMOS LA DISTANCIA RESTANDO EL PLANETA \"A\" DEL PLANETA \"B\"\n",
    "new_distPlanet = distPlanet1_int - distPlanet2_int\n",
    "print(abs(new_distPlanet))\n",
    "\n",
    "#CONVERTIMOS LA DISTANCIA DE KILOMETROS A MILLAS REDONDEANDO EL RESULTADO\n",
    "new_distPlanetmillas_float = abs(new_distPlanet) * 0.621\n",
    "print(ceil(new_distPlanetmillas_float))\n",
    "\n",
    "\n"
   ]
  }
 ],
 "metadata": {
  "interpreter": {
   "hash": "5b983a2d143372c07fe6d9cc58c2fd4ddf86b56a2bcc40bbd703620dfb73e07a"
  },
  "kernelspec": {
   "display_name": "Python 3.10.2 64-bit",
   "language": "python",
   "name": "python3"
  },
  "language_info": {
   "codemirror_mode": {
    "name": "ipython",
    "version": 3
   },
   "file_extension": ".py",
   "mimetype": "text/x-python",
   "name": "python",
   "nbconvert_exporter": "python",
   "pygments_lexer": "ipython3",
   "version": "3.10.2"
  },
  "orig_nbformat": 4
 },
 "nbformat": 4,
 "nbformat_minor": 2
}
