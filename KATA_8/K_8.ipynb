{
 "cells": [
  {
   "cell_type": "markdown",
   "metadata": {},
   "source": [
    "# KATA 8\n",
    "\n",
    "ADMINISTRAR DATOS CON DICCIONARIOS"
   ]
  },
  {
   "cell_type": "markdown",
   "metadata": {},
   "source": [
    "EJERCICIO 1 ------> CREAR Y MODIFICAR UN DICCIONARIO DE PYTHON"
   ]
  },
  {
   "cell_type": "code",
   "execution_count": 38,
   "metadata": {},
   "outputs": [],
   "source": [
    "#CREAMOS UN DICCIONARIO LLAMADO \"planet\" CON LOS DATOS PROPORCIONADOS\n",
    "planet = {\n",
    "    'name':'Mars',\n",
    "    'moons': 2\n",
    "}"
   ]
  },
  {
   "cell_type": "code",
   "execution_count": 39,
   "metadata": {},
   "outputs": [
    {
     "name": "stdout",
     "output_type": "stream",
     "text": [
      "Mars\n",
      "2\n",
      "Mars\n",
      "2\n",
      "Mars has 2 moons\n"
     ]
    }
   ],
   "source": [
    "#RECUPERAMOS LOS DATOS DE LA BIBLIOTECA MEDIANTE AMBOS METODOS\n",
    "\n",
    "#USANDO CORCHETES\n",
    "planet['name'] \n",
    "planet['moons'] \n",
    "print(planet['name'])\n",
    "print(planet['moons'])\n",
    "\n",
    "#USANDO COMANDO GET\n",
    "planet.get('name')\n",
    "planet.get('moons')\n",
    "print(planet.get('name'))\n",
    "print(planet.get('moons'))\n",
    "\n",
    "#USANDO UN SOLO METODO EN UNA SOLA ORACION\n",
    "print(f'{planet[\"name\"]} has {planet[\"moons\"]} moons')\n"
   ]
  },
  {
   "cell_type": "code",
   "execution_count": 40,
   "metadata": {},
   "outputs": [],
   "source": [
    "#AGREGAMOS NUEVOS DATOS AL DICCIONARIO EXISTENTE MEDIANTE EL USO DE UN DICCIONARIO CONCATENADO\n",
    "planet['diameter (km)'] = {\n",
    "    'polar': 6752,\n",
    "    'equatorial': 6792\n",
    "}"
   ]
  },
  {
   "cell_type": "code",
   "execution_count": 41,
   "metadata": {},
   "outputs": [
    {
     "name": "stdout",
     "output_type": "stream",
     "text": [
      "Mars has a polar circumference of 6752\n"
     ]
    }
   ],
   "source": [
    "#IMPRIMIMOS EL NOMBRE DEL PLANETA CON SU CIRCUNFERENCIA POLAR\n",
    "print(f'{planet[\"name\"]} has a polar circumference of {planet[\"diameter (km)\"][\"polar\"]}')\n",
    "\n",
    "#NOTA: USAR COMILLAS DOBLES CUANDO LLAMAMOS A LAS VARIABLES DE LO CONTRARIO MANDARA UN ERROR DE QUE NO SE CERRO CORCHETE"
   ]
  },
  {
   "cell_type": "markdown",
   "metadata": {},
   "source": [
    "EJERCICIO 2 -----> PROGRAMACION DINAMICA CON DICCIONARIOS"
   ]
  },
  {
   "cell_type": "code",
   "execution_count": 42,
   "metadata": {},
   "outputs": [],
   "source": [
    "#CREAMOS UN NUEVO DICCIONARIO CON CADA PLANETA Y SUS LUNAS\n",
    "planet_moons = {\n",
    "    'mercury': 0,\n",
    "    'venus': 0,\n",
    "    'earth': 1,\n",
    "    'mars': 2,\n",
    "    'jupiter': 79,\n",
    "    'saturn': 82,\n",
    "    'uranus': 27,\n",
    "    'neptune': 14,\n",
    "    'pluto': 5,\n",
    "    'haumea': 2,\n",
    "    'makemake': 1,\n",
    "    'eris': 1\n",
    "}"
   ]
  },
  {
   "cell_type": "code",
   "execution_count": 43,
   "metadata": {},
   "outputs": [
    {
     "name": "stdout",
     "output_type": "stream",
     "text": [
      "12\n"
     ]
    }
   ],
   "source": [
    "#DETERMINAMOS EL NUMERO DE PLANETAS\n",
    "moons = planet_moons.values()\n",
    "planets = len(planet_moons.keys())\n",
    "print(planets)"
   ]
  },
  {
   "cell_type": "code",
   "execution_count": 44,
   "metadata": {},
   "outputs": [
    {
     "name": "stdout",
     "output_type": "stream",
     "text": [
      "There was 214 moons in solar system\n",
      "None\n"
     ]
    }
   ],
   "source": [
    "#DETERMINAMOS EL NUMERO DE LUNAS\n",
    "total_moons = 0\n",
    "\n",
    "for moon in moons:\n",
    "    total_moons = total_moons + moon\n",
    "print(print(f'There was {total_moons} moons in solar system'))    \n",
    "\n",
    "#NOTA: KEYS REGRESA UNICAMENTE CLAVES ('VENUS','MARS', ETC) MIENTRAS VALUES UNICAMENTE LOS VALORES ES DECIR LO QUE NO TIENE COMILLAS"
   ]
  },
  {
   "cell_type": "code",
   "execution_count": 45,
   "metadata": {},
   "outputs": [
    {
     "name": "stdout",
     "output_type": "stream",
     "text": [
      "17.833333333333332\n"
     ]
    }
   ],
   "source": [
    "#DETERMINAMOS EL PROMEDIO DE LUNAS EN UNA NUEVA VARIABLE\n",
    "average = total_moons / planets\n",
    "print(average)"
   ]
  }
 ],
 "metadata": {
  "interpreter": {
   "hash": "5b983a2d143372c07fe6d9cc58c2fd4ddf86b56a2bcc40bbd703620dfb73e07a"
  },
  "kernelspec": {
   "display_name": "Python 3.10.2 64-bit",
   "language": "python",
   "name": "python3"
  },
  "language_info": {
   "codemirror_mode": {
    "name": "ipython",
    "version": 3
   },
   "file_extension": ".py",
   "mimetype": "text/x-python",
   "name": "python",
   "nbconvert_exporter": "python",
   "pygments_lexer": "ipython3",
   "version": "3.10.2"
  },
  "orig_nbformat": 4
 },
 "nbformat": 4,
 "nbformat_minor": 2
}
