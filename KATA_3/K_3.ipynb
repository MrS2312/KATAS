{
 "cells": [
  {
   "cell_type": "markdown",
   "metadata": {},
   "source": [
    "## KATA 3\n",
    "\n",
    "LOGICA BOOLEANA"
   ]
  },
  {
   "cell_type": "code",
   "execution_count": 9,
   "metadata": {},
   "outputs": [
    {
     "name": "stdout",
     "output_type": "stream",
     "text": [
      "UN ASTEROIDE SE ACERCA Y VIAJA A UNA VELOCIDAD DE : 49 km/s\n"
     ]
    }
   ],
   "source": [
    "## EJERCICIOS SECCION 1 -----> ESCRIBIR DECLARACIONES if, else, y elif\n",
    "\n",
    "# EJERCICIO 1.1 ------> ASTEROIDE 1\n",
    "asteroide_1 = 49 #km/s\n",
    "advertencia = 25 #km/s\n",
    "if asteroide_1 >= advertencia:\n",
    "    print(\"UN ASTEROIDE SE ACERCA Y VIAJA A UNA VELOCIDAD DE : \" + str(asteroide_1) + \" km/s\")"
   ]
  },
  {
   "cell_type": "code",
   "execution_count": 21,
   "metadata": {},
   "outputs": [
    {
     "name": "stdout",
     "output_type": "stream",
     "text": [
      "DETECCION DE ASTEROIDE\n",
      "NIVEL DE AMENAZA: 'MINIMA' \n"
     ]
    }
   ],
   "source": [
    "#EJERCICIO 1.2 ------> ASTEROIDE 2\n",
    "asteroide_2 = 19 #km/s\n",
    "hazDeluz = 20 #km/s\n",
    "if asteroide_2 >= advertencia:\n",
    "    print(\"UN ASTEROIDE SE ACERCA Y VIAJA A UNA VELOCIDAD DE : \" + str(asteroide_1) + \" km/s\")\n",
    "elif asteroide_2 >= hazDeluz:\n",
    "        print(\"SI VEZ UN HAZ DE LUZ EN EL CIELO\")\n",
    "        print(\"ES UN ASTEROIDE HUYE!!!!\")\n",
    "else: \n",
    "            print(\"DETECCION DE ASTEROIDE\")\n",
    "            print(\"NIVEL DE AMENAZA: 'MINIMA' \")"
   ]
  },
  {
   "cell_type": "code",
   "execution_count": 19,
   "metadata": {},
   "outputs": [
    {
     "name": "stdout",
     "output_type": "stream",
     "text": [
      "¡UN ASTEROIDE SE APROXIMA, CUIDADO!\n"
     ]
    }
   ],
   "source": [
    "## EJERCICIOS SECCION 2 ----->USO DE OPERADORES AND Y OR\n",
    "velocidadAsteroide = 25\n",
    "velocidadAtmosfera = 20\n",
    "tamanoAsteroide = 40\n",
    "if velocidadAsteroide >= 25 and tamanoAsteroide >= 25:\n",
    "    print('¡UN ASTEROIDE SE APROXIMA, CUIDADO!')\n",
    "elif velocidadAtmosfera >= 20:\n",
    "    print('SI VEZ UNA LUZ EN EL CIELO CORRE!!! ')\n",
    "elif tamanoAsteroide < 25 and velocidadAsteroide < 25:\n",
    "    print('ASTEROIDE PROXIMO')\n",
    "    print(\"AMENAZA MINIMA\")\n",
    "else:\n",
    "    print('NADA QUE REPORTAR')\n"
   ]
  }
 ],
 "metadata": {
  "interpreter": {
   "hash": "5b983a2d143372c07fe6d9cc58c2fd4ddf86b56a2bcc40bbd703620dfb73e07a"
  },
  "kernelspec": {
   "display_name": "Python 3.10.2 64-bit",
   "language": "python",
   "name": "python3"
  },
  "language_info": {
   "codemirror_mode": {
    "name": "ipython",
    "version": 3
   },
   "file_extension": ".py",
   "mimetype": "text/x-python",
   "name": "python",
   "nbconvert_exporter": "python",
   "pygments_lexer": "ipython3",
   "version": "3.10.2"
  },
  "orig_nbformat": 4
 },
 "nbformat": 4,
 "nbformat_minor": 2
}
