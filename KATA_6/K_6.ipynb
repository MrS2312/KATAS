{
 "cells": [
  {
   "cell_type": "markdown",
   "metadata": {},
   "source": [
    "## KATA 6\n",
    "\n",
    "INTRODUCCION A LAS LISTAS"
   ]
  },
  {
   "cell_type": "markdown",
   "metadata": {},
   "source": [
    "EJERCICIO 1 -----> CREAR Y USAR LISTAS DE PYTON"
   ]
  },
  {
   "cell_type": "code",
   "execution_count": 7,
   "metadata": {},
   "outputs": [
    {
     "name": "stdout",
     "output_type": "stream",
     "text": [
      "['Mercury', 'Venus', 'Earth', 'Mars', 'Jupiter', 'Saturn', 'Uranus', 'Neptune']\n",
      "There are 8 planets in the solar system.\n",
      "The last planet is Pluto\n"
     ]
    }
   ],
   "source": [
    "#CREAMOS UNA LISTA LLAMADA \"PLANETS\" Y MOSTRAMOS EL NUMERO DE PLANETAS\n",
    "planets = ['Mercury', 'Venus', 'Earth', 'Mars', 'Jupiter', 'Saturn', 'Uranus', 'Neptune']\n",
    "print(planets)\n",
    "numberPlanets = len(planets)\n",
    "print('There are', numberPlanets, 'planets in the solar system.')\n",
    "\n",
    "#AGREGAMOS A PLUTON Y MOSTRAMOS EL ULTIMO PLANETA AGREGADO\n",
    "planets.append('Pluto')\n",
    "numberPlanets = len(planets)\n",
    "print('The last planet is', planets[-1])"
   ]
  },
  {
   "cell_type": "markdown",
   "metadata": {},
   "source": [
    "EJERCICIO 2 -----> TRABAJANDO CON DATOS DE UNA LISTA"
   ]
  },
  {
   "cell_type": "code",
   "execution_count": 24,
   "metadata": {},
   "outputs": [
    {
     "name": "stdout",
     "output_type": "stream",
     "text": [
      "Mars\n",
      "Mars is the  4 planet from the sun\n",
      "THE CLOSEST PLANETS TO THE SUN ARE: \n",
      "['Mercury', 'Venus', 'Earth']\n",
      "THE FARTHER PLANETS FROM THE SUN ARE:\n",
      "['Jupiter', 'Saturn', 'Neptune']\n"
     ]
    }
   ],
   "source": [
    "#CREAMOS UN LISTA CON LOS PLANETAS\n",
    "solarSystem = ['Mercury', 'Venus', 'Earth', 'Mars', 'Jupiter', 'Saturn', 'Neptune']\n",
    "planetName_in = input('PLEASE ENTER THE NAME OF THE PLANET WHITH A CAPITAL LETTER TO START: ')\n",
    "print(planetName_in)\n",
    "\n",
    "#BUSCAMOS EL PLANETA EN LA LISTA\n",
    "planetName_index = solarSystem.index(planetName_in)\n",
    "print(str(planetName_in) + ' is the ', planetName_index + 1 , 'planet from the sun')\n",
    "\n",
    "\n",
    "#BUSCAMOS LOS PLANETAS MAS CERCANOS AL SOL EN BASE AL PLANETA INGRESADO\n",
    "planetsClose_Sun = solarSystem[0:planetName_index]\n",
    "print(\"THE CLOSEST PLANETS TO THE SUN ARE: \")\n",
    "print(planetsClose_Sun)\n",
    "\n",
    "#BUSCAMOS LOS PLANETAS MAS LEJANOS AL SOL EN BASE AL PLANETA INGRESADO\n",
    "planetsFar_Sun = solarSystem[planetName_index + 1: ]\n",
    "print(\"THE FARTHER PLANETS FROM THE SUN ARE:\")\n",
    "print(planetsFar_Sun)"
   ]
  }
 ],
 "metadata": {
  "interpreter": {
   "hash": "5b983a2d143372c07fe6d9cc58c2fd4ddf86b56a2bcc40bbd703620dfb73e07a"
  },
  "kernelspec": {
   "display_name": "Python 3.10.2 64-bit",
   "language": "python",
   "name": "python3"
  },
  "language_info": {
   "codemirror_mode": {
    "name": "ipython",
    "version": 3
   },
   "file_extension": ".py",
   "mimetype": "text/x-python",
   "name": "python",
   "nbconvert_exporter": "python",
   "pygments_lexer": "ipython3",
   "version": "3.10.2"
  },
  "orig_nbformat": 4
 },
 "nbformat": 4,
 "nbformat_minor": 2
}
