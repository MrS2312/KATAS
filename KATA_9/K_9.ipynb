{
 "cells": [
  {
   "cell_type": "markdown",
   "metadata": {},
   "source": [
    "# KATA 9\n",
    "\n",
    "FUNCIONES"
   ]
  },
  {
   "cell_type": "markdown",
   "metadata": {},
   "source": [
    "EJERCICIO 1 ----->TRABAJAR CON ARGUMENTOS EN FUNCIONES"
   ]
  },
  {
   "cell_type": "code",
   "execution_count": 30,
   "metadata": {},
   "outputs": [
    {
     "name": "stdout",
     "output_type": "stream",
     "text": [
      "THE AVERAGE OF THE TANKS IS: 100.0%\n",
      "                     TANK 1: 100%\n",
      "                     TANK 2: 100%\n",
      "                     TANK 3: 100%\n"
     ]
    }
   ],
   "source": [
    "# CREAMOS UNA FUNCION PARA LEER TRES TANQUES DE GASOLINA Y MUESTRE SU PROMEDIO\n",
    "def level_gas(tank_1, tank_2 , tank_3):\n",
    "    average = (tank_1 + tank_2 + tank_3) / 3\n",
    "    return print(f\"\"\"THE AVERAGE OF THE TANKS IS: {average}%\n",
    "                     TANK 1: {tank_1}%\n",
    "                     TANK 2: {tank_2}%\n",
    "                     TANK 3: {tank_3}%\"\"\")\n",
    "level_gas(100,100,100)\n"
   ]
  },
  {
   "cell_type": "code",
   "execution_count": 31,
   "metadata": {},
   "outputs": [
    {
     "name": "stdout",
     "output_type": "stream",
     "text": [
      "THE AVERAGE OF THE TANKS IS: 60.0%\n",
      "                     TANK 1: 30%\n",
      "                     TANK 2: 60%\n",
      "                     TANK 3: 90%\n"
     ]
    }
   ],
   "source": [
    "#COMPROBAMOS LA FUNCION CON LOS TANQUES NO LLENOS\n",
    "level_gas(30,60,90)\n",
    "\n",
    "#NOTA: AGREGAR LOS ARGUMENTOS O MANDARA: <funtion \"NOMBRE DE LA FUNCION\" at \"UNA DIRECCION EN HEXA\""
   ]
  },
  {
   "cell_type": "code",
   "execution_count": 32,
   "metadata": {},
   "outputs": [
    {
     "data": {
      "text/plain": [
       "33.333333333333336"
      ]
     },
     "execution_count": 32,
     "metadata": {},
     "output_type": "execute_result"
    }
   ],
   "source": [
    "#CREAMOS LA FUNCION PROMEDIO\n",
    "def average_gas(data):\n",
    "    Adition = sum(data)\n",
    "    lengthData = len(data)\n",
    "    return Adition/lengthData\n",
    "average_gas([50,30,20])\n",
    "\n",
    "#NOTA USAR LOS CORCHETES CUANDO SE OCUPA MAS DE UN DATO"
   ]
  },
  {
   "cell_type": "code",
   "execution_count": 33,
   "metadata": {},
   "outputs": [
    {
     "name": "stdout",
     "output_type": "stream",
     "text": [
      "THE AVERAGE OF THE TANKS IS: 70.0%\n",
      "                     TANK 1: 60%\n",
      "                     TANK 2: 70%\n",
      "                     TANK 3: 80%\n"
     ]
    }
   ],
   "source": [
    "#ACTUALIZAMOS LA FUNCION \"level_gas\" CON LA FUNCION PROMEDIO\n",
    "def level_gas(tank_1, tank_2 , tank_3):    \n",
    "    return print(f\"\"\"THE AVERAGE OF THE TANKS IS: {average_gas([tank_1, tank_2 , tank_3])}%\n",
    "                     TANK 1: {tank_1}%\n",
    "                     TANK 2: {tank_2}%\n",
    "                     TANK 3: {tank_3}%\"\"\")\n",
    "\n",
    "level_gas(60,70,80)\n",
    "\n",
    "#NOTA: AGREGAR LOS ARGUMENTOS CUANDO SE IMPRIMA O MANDARA: <funtion \"NOMBRE DE LA FUNCION\" at \"UNA DIRECCION EN HEXA\""
   ]
  },
  {
   "cell_type": "markdown",
   "metadata": {},
   "source": [
    "EJERCICIO 2 -----> TRABAJO CON ARGUMENTOS DE PALABRAS CLAVE"
   ]
  },
  {
   "cell_type": "code",
   "execution_count": 36,
   "metadata": {},
   "outputs": [
    {
     "name": "stdout",
     "output_type": "stream",
     "text": [
      " REPORT OF MISSION:\n",
      "                DESTINY: Moon\n",
      "                PRELAUNCH TIME: 14 minutes\n",
      "                FLIGHT TIME: 46 minutes\n",
      "                EXTERNAL TANK: 32%\n",
      "                INTERNAL TANK: 48%\n",
      "                FUEL RESSERVOISE: 80%\n",
      "    \n"
     ]
    }
   ],
   "source": [
    "#CREAMOS LA FUNCION CON TODOS LOS DATOS REQUERIDOS\n",
    "def inf_mission(prelaunch, flight_time, destiny, tank_ext, tank_int):\n",
    "    return print(f\"\"\" REPORT OF MISSION:\n",
    "                DESTINY: {destiny}\n",
    "                PRELAUNCH TIME: {prelaunch} minutes\n",
    "                FLIGHT TIME: {flight_time + prelaunch} minutes\n",
    "                EXTERNAL TANK: {tank_ext}%\n",
    "                INTERNAL TANK: {tank_int}%\n",
    "                FUEL RESSERVOISE: {(tank_int+tank_ext)}%\n",
    "    \"\"\")\n",
    "\n",
    "inf_mission(14,32,\"Moon\", 32, 48)"
   ]
  },
  {
   "cell_type": "code",
   "execution_count": 35,
   "metadata": {},
   "outputs": [
    {
     "name": "stdout",
     "output_type": "stream",
     "text": [
      " REPORT OF MISSION:\n",
      "                DESTINY: Moon\n",
      "                FLIGHT TIME: 46 minutes\n",
      "                FUEL RESSERVOISE: 80%\n",
      "    \n"
     ]
    }
   ],
   "source": [
    "# HACEMOS LA FUNCION MAS FLEXIBLE\n",
    "def inf_mission( destiny,  *flight_time,  **tank_gassoline):\n",
    "    return print(f\"\"\" REPORT OF MISSION:\n",
    "                DESTINY: {destiny}\n",
    "                FLIGHT TIME: {sum(flight_time)} minutes\n",
    "                FUEL RESSERVOISE: {sum(tank_gassoline.values())}%\n",
    "    \"\"\")\n",
    "\n",
    "inf_mission(\"Moon\", 14, 32, tank_ext= 32, tank_int = 48)\n",
    "\n",
    "#NOTA: COMO **tank_gasoline SE GUARDA COMO UN DICCIONARIO RECUERDA USAR VALUES PARA MANDAR LLAMAR A LOS VALRES O KEYS PARA LAS PALABRAS CLAVE\n"
   ]
  },
  {
   "cell_type": "code",
   "execution_count": 54,
   "metadata": {},
   "outputs": [
    {
     "name": "stdout",
     "output_type": "stream",
     "text": [
      " REPORT OF MISSION:\n",
      "                DESTINY: Moon\n",
      "                FLIGHT TIME: 46 minutes\n",
      "                FUEL RESSERVOISE: 80%\n",
      "                    main tank --> 32 gallons left\n",
      "                fuel tank --> 48 gallons left\n",
      "\n"
     ]
    }
   ],
   "source": [
    "#ACTUALIZAMOS LA FUNCION PARA CADA TANQUE DE GASOLINA\n",
    "# HACEMOS LA FUNCION MAS FLEXIBLE\n",
    "def inf_mission( destiny,  *flight_time,  **tank_gassoline):\n",
    "    main_report = f\"\"\" REPORT OF MISSION:\n",
    "                DESTINY: {destiny}\n",
    "                FLIGHT TIME: {sum(flight_time)} minutes\n",
    "                FUEL RESSERVOISE: {sum(tank_gassoline.values())}%\n",
    "    \"\"\"\n",
    "    for tank_name, gallons in tank_gassoline.items():\n",
    "        main_report += f\"                {tank_name} tank --> {gallons} gallons left\\n\"\n",
    "    return main_report\n",
    "print(inf_mission(\"Moon\", 14, 32, main= 32, fuel = 48))\n",
    "\n",
    "#NOTA: CUANDO MANDAS A LLAMAR ITEMS DE UNA VARIABLE \"**VARIABLE\" SE MANDAN A LLAMAR PRIMERO LAS CLAVES Y LUEGO LOS VALORES\n",
    "# CON LOS NOMBRES QUE LES ASIGNES A LAS VARIABLES"
   ]
  }
 ],
 "metadata": {
  "interpreter": {
   "hash": "5b983a2d143372c07fe6d9cc58c2fd4ddf86b56a2bcc40bbd703620dfb73e07a"
  },
  "kernelspec": {
   "display_name": "Python 3.10.2 64-bit",
   "language": "python",
   "name": "python3"
  },
  "language_info": {
   "codemirror_mode": {
    "name": "ipython",
    "version": 3
   },
   "file_extension": ".py",
   "mimetype": "text/x-python",
   "name": "python",
   "nbconvert_exporter": "python",
   "pygments_lexer": "ipython3",
   "version": "3.10.2"
  },
  "orig_nbformat": 4
 },
 "nbformat": 4,
 "nbformat_minor": 2
}
