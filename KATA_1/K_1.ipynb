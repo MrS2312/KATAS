{
 "cells": [
  {
   "cell_type": "markdown",
   "metadata": {},
   "source": [
    "## KATA 1\n",
    "VARIABLES, DATOS Y CONVERSION DE DATOS"
   ]
  },
  {
   "cell_type": "code",
   "execution_count": 2,
   "metadata": {},
   "outputs": [
    {
     "name": "stdout",
     "output_type": "stream",
     "text": [
      "2022-02-09\n",
      "Today's date is: 2022-02-09\n"
     ]
    }
   ],
   "source": [
    "# EJERCICIO 1------> FECHA\n",
    "\n",
    "#IMPORTAMOS LIBRERIA O BIBLIOTECA\n",
    "from datetime import date\n",
    "\n",
    "#OBTENEMOS LA FECHA\n",
    "date.today()\n",
    "\n",
    "#MOSTRAMOS LA FECHA DEL DIA DE HOY\n",
    "print(date.today())\n",
    "\n",
    "#AHORA MOSTRAMOS LA FECHA DEL DIA DE HOY CON UN MENSAJE\n",
    "print(\"Today's date is: \" + str(date.today()))\n",
    "\n",
    "\n",
    "#LA SOLUCION FUE CONVERTIR EL DATO FECHA A UNA CADENA DE CARACTERES PARA PODER MOSTRAR EL MENSAJE"
   ]
  },
  {
   "cell_type": "code",
   "execution_count": 6,
   "metadata": {},
   "outputs": [
    {
     "name": "stdout",
     "output_type": "stream",
     "text": [
      "11 parsec, is : 35.877159999999996 lightyears\n"
     ]
    }
   ],
   "source": [
    "#EJERCICIO 2-------> CONVERTIDOR DE UNIDADES\n",
    "parsec = 11\n",
    "lightyears = parsec * 3.26156\n",
    "print(str(parsec) + \" parsec, is : \" + str(lightyears) + \" lightyears\")\n",
    "\n",
    "#LA SOLUCION FUE MULTIPLICAR LOS PARSEC POR UN AÑO LUZ (3.26156) QUITANDO EL \"0\" DE LOS AÑOS LUZ"
   ]
  }
 ],
 "metadata": {
  "interpreter": {
   "hash": "5b983a2d143372c07fe6d9cc58c2fd4ddf86b56a2bcc40bbd703620dfb73e07a"
  },
  "kernelspec": {
   "display_name": "Python 3.10.2 64-bit",
   "language": "python",
   "name": "python3"
  },
  "language_info": {
   "codemirror_mode": {
    "name": "ipython",
    "version": 3
   },
   "file_extension": ".py",
   "mimetype": "text/x-python",
   "name": "python",
   "nbconvert_exporter": "python",
   "pygments_lexer": "ipython3",
   "version": "3.10.2"
  },
  "orig_nbformat": 4
 },
 "nbformat": 4,
 "nbformat_minor": 2
}
